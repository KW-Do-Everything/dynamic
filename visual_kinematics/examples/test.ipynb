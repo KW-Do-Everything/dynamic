{
 "cells": [
  {
   "cell_type": "code",
   "execution_count": 2,
   "metadata": {},
   "outputs": [],
   "source": [
    "import numpy as np\n",
    "import pandas as pd"
   ]
  },
  {
   "cell_type": "markdown",
   "metadata": {},
   "source": [
    "2 자유도 역기구학 풀이 완"
   ]
  },
  {
   "cell_type": "code",
   "execution_count": 16,
   "metadata": {},
   "outputs": [
    {
     "name": "stdout",
     "output_type": "stream",
     "text": [
      "theta_2 =  -0.7853981633974482 [rad] -> -44.99999999999999 [degree]\n",
      "theta_1 =  0 [rad] -> 0.0 [degree]\n"
     ]
    }
   ],
   "source": [
    "import numpy as np\n",
    "\n",
    "const_theta = 0.38264\n",
    "\n",
    "s_k = np.sin(const_theta)\n",
    "c_k = np.cos(const_theta)\n",
    "\n",
    "#link\n",
    "L_1 = 0.15222\n",
    "L_2 = 0.12325\n",
    "\n",
    "# input pose (x,y) 초기 위치 [0.18  -0.141 0.36]\n",
    "x = s_k*L_1 + L_2/2\n",
    "y = -c_k*L_1 - L_2/2\n",
    "\n",
    "if np.sqrt(x**2 + y**2) >= L_1+L_2:\n",
    "    theta_1  = np.arctan2(y,x) + pi/2 - const_theta\n",
    "    theta_2 = -(pi/2 - const_theta )\n",
    "\n",
    "elif ((x - s_k*L_1)**2 + (y + c_k*L_1)**2) <= L_2**2:\n",
    "    theta_1 = 0\n",
    "    theta_2 = np.arctan2(y + c_k*L_1, x - s_k*L_1)\n",
    "\n",
    "else:\n",
    "    # cal.. theta_2\n",
    "    s_2 = (L_1**2 + L_2**2 - (x**2) - (y**2))/(2 * L_1 * L_2)\n",
    "    c_2 = np.sqrt(1-s_2**2)\n",
    "\n",
    "    theta_2 = np.arctan2(s_2,c_2) + const_theta\n",
    "\n",
    "    #cal.. theta_1\n",
    "    A = np.array([[c_2*y - s_2*x, s_2*y + c_2*x],\n",
    "                [-(s_2*y + c_2*x), c_2*y - s_2*x]])\n",
    "\n",
    "    B = np.array([L_2 - s_2*L_1, -c_2*L_1 ])\n",
    "\n",
    "    sol =np.linalg.solve(A,B)\n",
    "\n",
    "    theta_1 = np.arctan2(sol[0],sol[1]) - const_theta\n",
    "\n",
    "print(\"theta_2 = \",theta_2,\"[rad]\", \"->\", theta_2*180/np.pi, \"[degree]\")\n",
    "print(\"theta_1 = \",theta_1,\"[rad]\", \"->\", theta_1*180/np.pi, \"[degree]\")"
   ]
  },
  {
   "cell_type": "code",
   "execution_count": 13,
   "metadata": {},
   "outputs": [
    {
     "data": {
      "text/plain": [
       "True"
      ]
     },
     "execution_count": 13,
     "metadata": {},
     "output_type": "execute_result"
    }
   ],
   "source": [
    "x = 0.05\n",
    "y = -0.141\n",
    "\n",
    "const_theta = 0.38264\n",
    "\n",
    "s_k = np.sin(const_theta)\n",
    "c_k = np.cos(const_theta)\n",
    "\n",
    "x = s_k + L_2/2\n",
    "y = -c_k + L_2/2\n",
    "\n",
    "#link\n",
    "L_1 = 0.15222\n",
    "L_2 = 0.12325\n",
    "\n",
    "(x - s_k)**2 + (y + c_k)**2 <= L_2**2\n",
    "    \n"
   ]
  },
  {
   "cell_type": "code",
   "execution_count": 4,
   "metadata": {},
   "outputs": [
    {
     "name": "stdout",
     "output_type": "stream",
     "text": [
      "A의 역행렬:\n",
      " [[ 1.40737488e+14 -2.81474977e+14  1.40737488e+14  7.39567606e-02]\n",
      " [-7.17975207e-02  6.19834711e-02  8.65185950e-02 -7.69230769e-02]\n",
      " [-4.22212465e+14  8.44424930e+14 -4.22212465e+14 -6.80241279e-02]\n",
      " [ 2.81474977e+14 -5.62949953e+14  2.81474977e+14  7.09904442e-02]]\n",
      "A_inv와 B의 행렬곱 결과:\n",
      " [[ 1.40737488e+14 -2.81474977e+14  1.40737488e+14  7.39567606e-02]\n",
      " [-1.43595041e-01  1.23966942e-01  1.73037190e-01 -1.53846154e-01]\n",
      " [-1.26663740e+15  2.53327479e+15 -1.26663740e+15 -2.04072384e-01]\n",
      " [ 1.12589991e+15 -2.25179981e+15  1.12589991e+15  2.83961777e-01]]\n"
     ]
    }
   ],
   "source": [
    "import numpy as np\n",
    "\n",
    "# 4x4 행렬 A 정의\n",
    "A = np.array([[1, 2, 3, 4],\n",
    "              [5, 6, 7, 8],\n",
    "              [9, 10, 11, 12],\n",
    "              [13, 1, 15, 16]])\n",
    "\n",
    "# A의 역행렬 A_inv 구하기\n",
    "A_inv = np.linalg.inv(A)\n",
    "\n",
    "# 4x1 행렬 B 정의\n",
    "B = np.array([[1],\n",
    "              [2],\n",
    "              [3],\n",
    "              [4]])\n",
    "\n",
    "# A_inv와 B의 행렬곱\n",
    "result = np.dot(A_inv, B)\n",
    "\n",
    "# 결과 출력\n",
    "print(\"A의 역행렬:\\n\", A_inv)\n",
    "print(\"A_inv와 B의 행렬곱 결과:\\n\", result)"
   ]
  }
 ],
 "metadata": {
  "kernelspec": {
   "display_name": "Python 3",
   "language": "python",
   "name": "python3"
  },
  "language_info": {
   "codemirror_mode": {
    "name": "ipython",
    "version": 3
   },
   "file_extension": ".py",
   "mimetype": "text/x-python",
   "name": "python",
   "nbconvert_exporter": "python",
   "pygments_lexer": "ipython3",
   "version": "3.11.5"
  }
 },
 "nbformat": 4,
 "nbformat_minor": 2
}
